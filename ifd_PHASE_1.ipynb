{
  "cells": [
    {
      "attachments": {},
      "cell_type": "markdown",
      "metadata": {
        "id": "K6UVBfhpGBhl"
      },
      "source": [
        "Number of images over the internet is increasing at exponential rate with the advancement of internet and availability of camera to the large proportion of population. Use of image processing software like Adobe Photoshop and Gnu Gimp can easily make forgery photo in which another image is copy pasted on original iamge .Doctored images are major concern for internet companies. These images are prime source of fake news and which are often used for mob incitement . With advancement of photo and video editing softwares it is becoming very hard for a normal human being to differentiate between a real image and a forged image we need forensic experts to do it . So we will try to build a network that will tell us which image is real and which is forged plus it will show us region of the image where some new image is copied and pasted ."
      ]
    },
    {
      "attachments": {},
      "cell_type": "markdown",
      "metadata": {
        "id": "lruMeuvYGEW_"
      },
      "source": [
        "### BUSINESS OBJECTIVE AND CONSTRAINT "
      ]
    },
    {
      "attachments": {},
      "cell_type": "markdown",
      "metadata": {
        "id": "I8l1CWYgGHwW"
      },
      "source": [
        "- There is no latency requirement as such because we don't need instant results from our model but us it should not take lot of time as well to detect forgery region and whether image is real or fake"
      ]
    },
    {
      "attachments": {},
      "cell_type": "markdown",
      "metadata": {
        "id": "-Mu7Ou5PGLed"
      },
      "source": [
        "### EXPLORATORY DATA ANALYSIS AND DATA PREPROCESSING "
      ]
    },
    {
      "cell_type": "code",
      "execution_count": 1,
      "metadata": {
        "id": "FGYvfkv9GLvm"
      },
      "outputs": [],
      "source": [
        "#Importing necessary libraries\n",
        "import os\n",
        "import pandas as pd\n",
        "import numpy as np \n",
        "import matplotlib.pyplot as plt\n",
        "import cv2\n",
        "from tqdm import tqdm\n",
        "import pickle as pkl\n",
        "from keras.utils.vis_utils import plot_model\n",
        "import keras\n",
        "from keras.utils.np_utils import to_categorical\n",
        "from keras.models import Sequential\n",
        "from keras.layers import Dense, Dropout, Flatten, Conv2D, MaxPool2D, BatchNormalization\n",
        "from sklearn.model_selection import train_test_split\n",
        "from scipy import stats\n",
        "from sklearn.preprocessing import LabelEncoder\n",
        "from PIL import Image\n",
        "from PIL import Image, ImageChops, ImageEnhance\n",
        "from sklearn.utils import shuffle\n",
        "import tensorflow as tf"
      ]
    },
    {
      "attachments": {},
      "cell_type": "markdown",
      "metadata": {
        "id": "FJieVHhVGQHg"
      },
      "source": [
        "I downloaded data from this kaggle link https://www.kaggle.com/datasets/divg07/casia-20-image-tampering-detection-dataset in which we have three files <br>\n",
        "- Tp - This folder contain fake image \n",
        "- CASIA 2 Groundtruth - This folder contain fake image mask \n",
        "- Au - This folder contain real images"
      ]
    },
    {
      "attachments": {},
      "cell_type": "markdown",
      "metadata": {
        "id": "KGtrfR_YGS-D"
      },
      "source": [
        "#### Analysis on fake images "
      ]
    },
    {
      "cell_type": "code",
      "execution_count": 2,
      "metadata": {
        "id": "3vt1KhNLGNMI"
      },
      "outputs": [],
      "source": [
        "fake_image_data={'image_path':[],'label':[],'image_id':[]}"
      ]
    },
    {
      "cell_type": "code",
      "execution_count": 3,
      "metadata": {
        "id": "DNwx4E84GUiW"
      },
      "outputs": [],
      "source": [
        "fake_image_path='/Users/trishitanmay/Projects/automaticforgerydetection1-main/Tp'\n",
        "for img in os.listdir(fake_image_path) :\n",
        "    if img.endswith('jpg') or img.endswith('png') :\n",
        "      temp_path=fake_image_path+\"/\"+str(img)\n",
        "      fake_image_data['image_path'].append(temp_path)\n",
        "      fake_image_data['label'].append('fake')\n",
        "      fake_image_data['image_id'].append(img[:-4])\n",
        "    \n",
        "    "
      ]
    },
    {
      "cell_type": "code",
      "execution_count": 4,
      "metadata": {
        "colab": {
          "base_uri": "https://localhost:8080/",
          "height": 206
        },
        "id": "ZxMaFt4aGVxF",
        "outputId": "12474ad1-8c3a-4c2f-df2a-8274b8f61c12"
      },
      "outputs": [
        {
          "data": {
            "text/html": [
              "<div>\n",
              "<style scoped>\n",
              "    .dataframe tbody tr th:only-of-type {\n",
              "        vertical-align: middle;\n",
              "    }\n",
              "\n",
              "    .dataframe tbody tr th {\n",
              "        vertical-align: top;\n",
              "    }\n",
              "\n",
              "    .dataframe thead th {\n",
              "        text-align: right;\n",
              "    }\n",
              "</style>\n",
              "<table border=\"1\" class=\"dataframe\">\n",
              "  <thead>\n",
              "    <tr style=\"text-align: right;\">\n",
              "      <th></th>\n",
              "      <th>image_path</th>\n",
              "      <th>label</th>\n",
              "      <th>image_id</th>\n",
              "    </tr>\n",
              "  </thead>\n",
              "  <tbody>\n",
              "    <tr>\n",
              "      <th>0</th>\n",
              "      <td>/Users/trishitanmay/Projects/automaticforgeryd...</td>\n",
              "      <td>fake</td>\n",
              "      <td>Tp_D_NRN_M_N_nat00014_nat00028_11038</td>\n",
              "    </tr>\n",
              "    <tr>\n",
              "      <th>1</th>\n",
              "      <td>/Users/trishitanmay/Projects/automaticforgeryd...</td>\n",
              "      <td>fake</td>\n",
              "      <td>Tp_D_NNN_S_N_ani10200_ani10199_12409</td>\n",
              "    </tr>\n",
              "    <tr>\n",
              "      <th>2</th>\n",
              "      <td>/Users/trishitanmay/Projects/automaticforgeryd...</td>\n",
              "      <td>fake</td>\n",
              "      <td>Tp_D_NRN_S_N_nat10139_ani00005_11950</td>\n",
              "    </tr>\n",
              "    <tr>\n",
              "      <th>3</th>\n",
              "      <td>/Users/trishitanmay/Projects/automaticforgeryd...</td>\n",
              "      <td>fake</td>\n",
              "      <td>Tp_D_CRN_S_N_sec00071_art00028_11281</td>\n",
              "    </tr>\n",
              "    <tr>\n",
              "      <th>4</th>\n",
              "      <td>/Users/trishitanmay/Projects/automaticforgeryd...</td>\n",
              "      <td>fake</td>\n",
              "      <td>Tp_S_NNN_S_N_art00022_art00022_20083</td>\n",
              "    </tr>\n",
              "  </tbody>\n",
              "</table>\n",
              "</div>"
            ],
            "text/plain": [
              "                                          image_path label   \n",
              "0  /Users/trishitanmay/Projects/automaticforgeryd...  fake  \\\n",
              "1  /Users/trishitanmay/Projects/automaticforgeryd...  fake   \n",
              "2  /Users/trishitanmay/Projects/automaticforgeryd...  fake   \n",
              "3  /Users/trishitanmay/Projects/automaticforgeryd...  fake   \n",
              "4  /Users/trishitanmay/Projects/automaticforgeryd...  fake   \n",
              "\n",
              "                               image_id  \n",
              "0  Tp_D_NRN_M_N_nat00014_nat00028_11038  \n",
              "1  Tp_D_NNN_S_N_ani10200_ani10199_12409  \n",
              "2  Tp_D_NRN_S_N_nat10139_ani00005_11950  \n",
              "3  Tp_D_CRN_S_N_sec00071_art00028_11281  \n",
              "4  Tp_S_NNN_S_N_art00022_art00022_20083  "
            ]
          },
          "execution_count": 4,
          "metadata": {},
          "output_type": "execute_result"
        }
      ],
      "source": [
        "fake_image_data=pd.DataFrame(fake_image_data)\n",
        "fake_image_data.head()"
      ]
    },
    {
      "cell_type": "code",
      "execution_count": 5,
      "metadata": {
        "colab": {
          "base_uri": "https://localhost:8080/"
        },
        "id": "5m_Xcs6sWBDb",
        "outputId": "c08098b0-3069-4a73-d4b3-9b36124cb0ed"
      },
      "outputs": [
        {
          "name": "stdout",
          "output_type": "stream",
          "text": [
            "Number of fake images are 2064\n"
          ]
        }
      ],
      "source": [
        "print(\"Number of fake images are {}\".format(fake_image_data.shape[0]))"
      ]
    },
    {
      "attachments": {},
      "cell_type": "markdown",
      "metadata": {
        "id": "IIj_5601WFwt"
      },
      "source": [
        "#### Analysis on pristine images"
      ]
    },
    {
      "cell_type": "code",
      "execution_count": 6,
      "metadata": {
        "id": "eJJb8RsgWC_q"
      },
      "outputs": [],
      "source": [
        "real_image_data={'image_path':[],'label':[],'image_id':[]}"
      ]
    },
    {
      "cell_type": "code",
      "execution_count": 7,
      "metadata": {
        "id": "yeJUjH--WHc9"
      },
      "outputs": [],
      "source": [
        "real_image_path='/Users/trishitanmay/Projects/automaticforgerydetection1-main/Au'\n",
        "for img in os.listdir(real_image_path) :\n",
        "    if img.endswith('jpg') or img.endswith('png') :\n",
        "      temp_path=real_image_path+\"/\"+str(img)\n",
        "      real_image_data['image_path'].append(temp_path)\n",
        "      real_image_data['label'].append('real')\n",
        "      real_image_data['image_id'].append(img[:-4])\n",
        "    \n",
        "    "
      ]
    },
    {
      "cell_type": "code",
      "execution_count": 8,
      "metadata": {
        "colab": {
          "base_uri": "https://localhost:8080/",
          "height": 206
        },
        "id": "fmWJcXgLWObT",
        "outputId": "8587ccca-78ac-40e5-e00a-463d3b003286"
      },
      "outputs": [
        {
          "data": {
            "text/html": [
              "<div>\n",
              "<style scoped>\n",
              "    .dataframe tbody tr th:only-of-type {\n",
              "        vertical-align: middle;\n",
              "    }\n",
              "\n",
              "    .dataframe tbody tr th {\n",
              "        vertical-align: top;\n",
              "    }\n",
              "\n",
              "    .dataframe thead th {\n",
              "        text-align: right;\n",
              "    }\n",
              "</style>\n",
              "<table border=\"1\" class=\"dataframe\">\n",
              "  <thead>\n",
              "    <tr style=\"text-align: right;\">\n",
              "      <th></th>\n",
              "      <th>image_path</th>\n",
              "      <th>label</th>\n",
              "      <th>image_id</th>\n",
              "    </tr>\n",
              "  </thead>\n",
              "  <tbody>\n",
              "    <tr>\n",
              "      <th>0</th>\n",
              "      <td>/Users/trishitanmay/Projects/automaticforgeryd...</td>\n",
              "      <td>real</td>\n",
              "      <td>Au_pla_30535</td>\n",
              "    </tr>\n",
              "    <tr>\n",
              "      <th>1</th>\n",
              "      <td>/Users/trishitanmay/Projects/automaticforgeryd...</td>\n",
              "      <td>real</td>\n",
              "      <td>Au_art_30063</td>\n",
              "    </tr>\n",
              "    <tr>\n",
              "      <th>2</th>\n",
              "      <td>/Users/trishitanmay/Projects/automaticforgeryd...</td>\n",
              "      <td>real</td>\n",
              "      <td>Au_pla_30253</td>\n",
              "    </tr>\n",
              "    <tr>\n",
              "      <th>3</th>\n",
              "      <td>/Users/trishitanmay/Projects/automaticforgeryd...</td>\n",
              "      <td>real</td>\n",
              "      <td>Au_pla_20040</td>\n",
              "    </tr>\n",
              "    <tr>\n",
              "      <th>4</th>\n",
              "      <td>/Users/trishitanmay/Projects/automaticforgeryd...</td>\n",
              "      <td>real</td>\n",
              "      <td>Au_nat_10105</td>\n",
              "    </tr>\n",
              "  </tbody>\n",
              "</table>\n",
              "</div>"
            ],
            "text/plain": [
              "                                          image_path label      image_id\n",
              "0  /Users/trishitanmay/Projects/automaticforgeryd...  real  Au_pla_30535\n",
              "1  /Users/trishitanmay/Projects/automaticforgeryd...  real  Au_art_30063\n",
              "2  /Users/trishitanmay/Projects/automaticforgeryd...  real  Au_pla_30253\n",
              "3  /Users/trishitanmay/Projects/automaticforgeryd...  real  Au_pla_20040\n",
              "4  /Users/trishitanmay/Projects/automaticforgeryd...  real  Au_nat_10105"
            ]
          },
          "execution_count": 8,
          "metadata": {},
          "output_type": "execute_result"
        }
      ],
      "source": [
        "real_image_data=pd.DataFrame(real_image_data)\n",
        "real_image_data.head()"
      ]
    },
    {
      "cell_type": "code",
      "execution_count": 9,
      "metadata": {
        "colab": {
          "base_uri": "https://localhost:8080/"
        },
        "id": "t7vjQtQeWQC8",
        "outputId": "a4831554-022e-4c24-c5d7-37e884430342"
      },
      "outputs": [
        {
          "name": "stdout",
          "output_type": "stream",
          "text": [
            "Number of real images are 7437\n"
          ]
        }
      ],
      "source": [
        "print(\"Number of real images are {}\".format(real_image_data.shape[0]))"
      ]
    },
    {
      "attachments": {},
      "cell_type": "markdown",
      "metadata": {
        "id": "8-w1FDKRWZEe"
      },
      "source": [
        "We can see significant difference between number of prisitine images and number of fake images which can lead to problem of imbalance dataset thus i will reduce the number of prisitne images . This technique is called as Undersampling"
      ]
    },
    {
      "cell_type": "code",
      "execution_count": 10,
      "metadata": {
        "id": "Uj7jLJvrWRvn"
      },
      "outputs": [],
      "source": [
        "real_image_data=shuffle(real_image_data,random_state=42)\n",
        "real_image_data=real_image_data.iloc[:fake_image_data.shape[0],:]"
      ]
    },
    {
      "cell_type": "code",
      "execution_count": 11,
      "metadata": {
        "id": "ZAhpClrjWb6S"
      },
      "outputs": [],
      "source": [
        "final_image_data=pd.concat([fake_image_data,real_image_data])"
      ]
    },
    {
      "cell_type": "code",
      "execution_count": 12,
      "metadata": {
        "colab": {
          "base_uri": "https://localhost:8080/"
        },
        "id": "230DKRZ9Wj4v",
        "outputId": "5edafd7d-069a-441e-9f10-5d802b215e55"
      },
      "outputs": [
        {
          "name": "stdout",
          "output_type": "stream",
          "text": [
            "Total number of images in dataset is 4128\n"
          ]
        }
      ],
      "source": [
        "print(\"Total number of images in dataset is {}\".format(final_image_data.shape[0]))"
      ]
    },
    {
      "attachments": {},
      "cell_type": "markdown",
      "metadata": {
        "id": "a4sfs3WbWod5"
      },
      "source": [
        "##### IMAGE PREPROCESSING (ERROR LEVEL ANALYSIS)"
      ]
    },
    {
      "attachments": {},
      "cell_type": "markdown",
      "metadata": {
        "id": "vRKdUGRgWohg"
      },
      "source": [
        "- Research Paper - https://www.researchgate.net/publication/332561655_Image_forgery_detection_using_error_level_analysis_and_deep_learning\n",
        "- Reference https://www.kaggle.com/code/bchirag/casia-version2"
      ]
    },
    {
      "cell_type": "code",
      "execution_count": 13,
      "metadata": {
        "id": "mkTsixjhWloz"
      },
      "outputs": [],
      "source": [
        "def convert_to_ela_image(path, quality):\n",
        "    temp_filename = 'temp_file.jpg'\n",
        "    ela_filename = 'temp_ela_file.png'\n",
        "    \n",
        "    image = Image.open(path).convert('RGB')\n",
        "    image.save(temp_filename, 'JPEG', quality = quality)\n",
        "    temp_image = Image.open(temp_filename)\n",
        "    \n",
        "    ela_image = ImageChops.difference(image, temp_image)\n",
        "    \n",
        "    extrema = ela_image.getextrema()\n",
        "    max_diff = max([ex[1] for ex in extrema])\n",
        "    if max_diff == 0:\n",
        "        max_diff = 1\n",
        "    scale = 255.0 / max_diff\n",
        "    \n",
        "    ela_image = ImageEnhance.Brightness(ela_image).enhance(scale)\n",
        "    \n",
        "    return ela_image"
      ]
    },
    {
      "cell_type": "code",
      "execution_count": 14,
      "metadata": {
        "id": "0AZPBz4XWwEK"
      },
      "outputs": [],
      "source": [
        "image_size = (128, 128)\n",
        "\n",
        "def prepare_image(image_path):\n",
        "    return np.array(convert_to_ela_image(image_path, 85).resize(image_size)).flatten() / 255.0"
      ]
    },
    {
      "cell_type": "code",
      "execution_count": 15,
      "metadata": {
        "id": "zruv6k2HWxvH"
      },
      "outputs": [],
      "source": [
        "X=[]\n",
        "Y=[]"
      ]
    },
    {
      "cell_type": "code",
      "execution_count": 16,
      "metadata": {
        "colab": {
          "base_uri": "https://localhost:8080/"
        },
        "id": "GeEKRZqVWzLQ",
        "outputId": "1ce8ce36-5109-4258-923f-b715c71463cd"
      },
      "outputs": [
        {
          "name": "stderr",
          "output_type": "stream",
          "text": [
            "0it [00:00, ?it/s]"
          ]
        },
        {
          "name": "stderr",
          "output_type": "stream",
          "text": [
            "4128it [00:28, 146.16it/s]\n"
          ]
        }
      ],
      "source": [
        "for index,rows in tqdm(final_image_data.iterrows()) :\n",
        "    temp_ela_image=prepare_image(rows['image_path'])\n",
        "    X.append(temp_ela_image)\n",
        "    if rows['label']=='fake' :\n",
        "        Y.append(0)\n",
        "    else :\n",
        "        Y.append(1)"
      ]
    },
    {
      "cell_type": "code",
      "execution_count": 17,
      "metadata": {
        "id": "KxkgOIceW0ge"
      },
      "outputs": [],
      "source": [
        "X, Y = shuffle(X, Y, random_state=42)"
      ]
    },
    {
      "cell_type": "code",
      "execution_count": 18,
      "metadata": {
        "id": "xlxlE61DXHbb"
      },
      "outputs": [],
      "source": [
        "X = np.array(X)\n",
        "X = X.reshape(-1, 128, 128, 3)"
      ]
    },
    {
      "attachments": {},
      "cell_type": "markdown",
      "metadata": {
        "id": "6AWcb6a9XHut"
      },
      "source": [
        "TRAINING AND VALIDATION SET"
      ]
    },
    {
      "cell_type": "code",
      "execution_count": 19,
      "metadata": {
        "id": "o2s-Ahr2XLY-"
      },
      "outputs": [],
      "source": [
        "X_train, X_val, Y_train, Y_val = train_test_split(X, Y, test_size = 0.2, random_state=42)"
      ]
    },
    {
      "attachments": {},
      "cell_type": "markdown",
      "metadata": {
        "id": "pHFX-a6cXU1B"
      },
      "source": [
        "#### CUSTOM DATAGENERATOR"
      ]
    },
    {
      "cell_type": "code",
      "execution_count": 20,
      "metadata": {
        "id": "0gVCwEZTXNvJ"
      },
      "outputs": [],
      "source": [
        "class Dataset:\n",
        "    def __init__(self, data_x,data_y):\n",
        "        self.x = []\n",
        "        self.y = []\n",
        "        \n",
        "        for img in data_x :\n",
        "            self.x.append(img)\n",
        "        \n",
        "        for lab in data_y :\n",
        "            self.y.append(lab)\n",
        "            \n",
        "\n",
        "    def __getitem__(self, i):\n",
        "            \n",
        "        return self.x[i],self.y[i]\n",
        "        \n",
        "\n",
        "    def __len__(self): # your model.fit_gen requires this function\n",
        "        return len(self.x)\n",
        "\n",
        "    \n",
        "class Dataloder(tf.keras.utils.Sequence):    \n",
        "    def __init__(self, dataset, batch_size=1,shuffle=False):\n",
        "        self.dataset = dataset\n",
        "        self.batch_size = batch_size\n",
        "        self.shuffle=shuffle\n",
        "        self.indexes = np.arange(len(self.dataset.x))\n",
        "\n",
        "\n",
        "    def __getitem__(self, i):\n",
        "        start = i * self.batch_size\n",
        "        stop = (i + 1) * self.batch_size\n",
        "        data = []\n",
        "        for j in range(start, stop):\n",
        "            data.append(self.dataset[j])\n",
        "\n",
        "        #batch = [for samples in zip(*data)]\n",
        "        batch = [np.stack(samples, axis=0) for samples in zip(*data)]\n",
        "\n",
        "        return tuple([batch[0],batch[1]])\n",
        "\n",
        "    def __len__(self):  # your model.fit_gen requires this function\n",
        "        return len(self.indexes) // self.batch_size\n",
        "    \n",
        "    def on_epoch_end(self):\n",
        "        self.indexes = np.random.permutation(self.indexes)\n",
        "\n",
        "train_dataset=Dataset(X_train,Y_train)\n",
        "train_dataloader = Dataloder(train_dataset, batch_size=8,shuffle=True)"
      ]
    },
    {
      "cell_type": "code",
      "execution_count": 21,
      "metadata": {
        "id": "tGYSWcJdXWW7"
      },
      "outputs": [],
      "source": [
        "test_dataset=Dataset(X_val,Y_val)\n",
        "test_dataloader = Dataloder(test_dataset, batch_size=8,shuffle=True)"
      ]
    },
    {
      "attachments": {},
      "cell_type": "markdown",
      "metadata": {
        "id": "XAa8GvT6XZb0"
      },
      "source": [
        "#### MODEL BUILDING AND TRAINING"
      ]
    },
    {
      "cell_type": "code",
      "execution_count": 22,
      "metadata": {
        "id": "XjslCNMFXYOk"
      },
      "outputs": [],
      "source": [
        "from tensorflow.keras.layers import * \n",
        "from tensorflow.keras.models import *"
      ]
    },
    {
      "cell_type": "code",
      "execution_count": 23,
      "metadata": {
        "colab": {
          "base_uri": "https://localhost:8080/"
        },
        "id": "IZtg1BcQXczk",
        "outputId": "3995e16e-c0aa-4941-dd4b-d9128a4416ec"
      },
      "outputs": [
        {
          "name": "stdout",
          "output_type": "stream",
          "text": [
            "Metal device set to: Apple M2\n",
            "\n",
            "systemMemory: 8.00 GB\n",
            "maxCacheSize: 2.67 GB\n",
            "\n",
            "Model: \"model\"\n",
            "_________________________________________________________________\n",
            " Layer (type)                Output Shape              Param #   \n",
            "=================================================================\n",
            " input_1 (InputLayer)        [(None, 128, 128, 3)]     0         \n",
            "                                                                 \n",
            " conv2d (Conv2D)             (None, 128, 128, 128)     3584      \n",
            "                                                                 \n",
            " conv2d_1 (Conv2D)           (None, 128, 128, 64)      73792     \n",
            "                                                                 \n",
            " max_pooling2d (MaxPooling2D  (None, 64, 64, 64)       0         \n",
            " )                                                               \n",
            "                                                                 \n",
            " dropout (Dropout)           (None, 64, 64, 64)        0         \n",
            "                                                                 \n",
            " flatten (Flatten)           (None, 262144)            0         \n",
            "                                                                 \n",
            " dense (Dense)               (None, 16)                4194320   \n",
            "                                                                 \n",
            " dense_1 (Dense)             (None, 8)                 136       \n",
            "                                                                 \n",
            " dense_2 (Dense)             (None, 1)                 9         \n",
            "                                                                 \n",
            "=================================================================\n",
            "Total params: 4,271,841\n",
            "Trainable params: 4,271,841\n",
            "Non-trainable params: 0\n",
            "_________________________________________________________________\n",
            "None\n"
          ]
        }
      ],
      "source": [
        "Input_shape=Input(shape=(128,128,3))\n",
        "conv11=Conv2D(filters=128,kernel_size=(3,3),padding=\"same\", activation=\"relu\")(Input_shape)\n",
        "conv12=Conv2D(filters=64,kernel_size=(3,3),padding=\"same\", activation=\"relu\")(conv11)\n",
        "conv13=MaxPool2D(pool_size=(2,2),strides=(2,2))(conv12)\n",
        "conv13=Dropout(0.3)(conv13)\n",
        "\n",
        "\n",
        "flatten1=Flatten()(conv13)\n",
        "dense1=Dense(units=16,activation=\"relu\")(flatten1)\n",
        "dense2=Dense(units=8,activation=\"relu\")(dense1)\n",
        "output=Dense(units=1, activation=\"sigmoid\")(dense2)\n",
        "\n",
        "model=Model(inputs=Input_shape,outputs=output)\n",
        "print(model.summary())\n",
        "\n"
      ]
    },
    {
      "cell_type": "code",
      "execution_count": 24,
      "metadata": {
        "id": "4GycUDzrXeG7"
      },
      "outputs": [
        {
          "name": "stderr",
          "output_type": "stream",
          "text": [
            "WARNING:absl:At this time, the v2.11+ optimizer `tf.keras.optimizers.Adam` runs slowly on M1/M2 Macs, please use the legacy Keras optimizer instead, located at `tf.keras.optimizers.legacy.Adam`.\n",
            "WARNING:absl:There is a known slowdown when using v2.11+ Keras optimizers on M1/M2 Macs. Falling back to the legacy Keras optimizer, i.e., `tf.keras.optimizers.legacy.Adam`.\n"
          ]
        }
      ],
      "source": [
        "model.compile(optimizer =tf.keras.optimizers.Adam(learning_rate=0.0001), loss = 'binary_crossentropy', metrics = ['accuracy'])"
      ]
    },
    {
      "attachments": {},
      "cell_type": "markdown",
      "metadata": {
        "id": "mNtWQmLuXkX-"
      },
      "source": [
        "##### Training the model"
      ]
    },
    {
      "cell_type": "code",
      "execution_count": 25,
      "metadata": {
        "id": "58IsGCtRMlYr"
      },
      "outputs": [],
      "source": [
        "def scheduler(epoch,lr) :\n",
        "  if epoch%5==0 :\n",
        "    lr=0.9*lr\n",
        "  \n",
        "  return lr"
      ]
    },
    {
      "cell_type": "code",
      "execution_count": 26,
      "metadata": {
        "id": "1yDL6ihCL6HG"
      },
      "outputs": [],
      "source": [
        "#Callbacks \n",
        "lrScheduler = tf.keras.callbacks.LearningRateScheduler(scheduler)\n",
        "es=tf.keras.callbacks.EarlyStopping(monitor=\"val_loss\",patience=3)\n",
        "rl=tf.keras.callbacks.ReduceLROnPlateau(monitor=\"val_loss\",factor=0.1,patience=5)"
      ]
    },
    {
      "cell_type": "code",
      "execution_count": 27,
      "metadata": {
        "colab": {
          "base_uri": "https://localhost:8080/"
        },
        "id": "o0Bcdt5g0Oco",
        "outputId": "ad1d2842-b721-4bfd-d453-dc4017fdbf2e"
      },
      "outputs": [
        {
          "name": "stdout",
          "output_type": "stream",
          "text": [
            "Epoch 1/30\n"
          ]
        },
        {
          "name": "stderr",
          "output_type": "stream",
          "text": [
            "/var/folders/t6/p3v700kj1519grzmg474x4940000gn/T/ipykernel_35101/1422361946.py:1: UserWarning: `Model.fit_generator` is deprecated and will be removed in a future version. Please use `Model.fit`, which supports generators.\n",
            "  history=model.fit_generator(train_dataloader,steps_per_epoch=len(train_dataloader)//8,validation_data=test_dataloader,validation_steps=len(test_dataloader)//8,epochs=30,callbacks=[lrScheduler,es,rl])\n",
            "2023-05-11 13:32:15.450300: W tensorflow/tsl/platform/profile_utils/cpu_utils.cc:128] Failed to get CPU frequency: 0 Hz\n"
          ]
        },
        {
          "name": "stdout",
          "output_type": "stream",
          "text": [
            "51/51 [==============================] - 4s 60ms/step - loss: 0.6670 - accuracy: 0.5319 - val_loss: 0.6365 - val_accuracy: 0.4792 - lr: 9.0000e-05\n",
            "Epoch 2/30\n",
            "51/51 [==============================] - 3s 56ms/step - loss: 0.6129 - accuracy: 0.5147 - val_loss: 0.6114 - val_accuracy: 0.4792 - lr: 9.0000e-05\n",
            "Epoch 3/30\n",
            "51/51 [==============================] - 3s 56ms/step - loss: 0.5805 - accuracy: 0.5931 - val_loss: 0.5362 - val_accuracy: 0.5833 - lr: 9.0000e-05\n",
            "Epoch 4/30\n",
            "51/51 [==============================] - 3s 56ms/step - loss: 0.5289 - accuracy: 0.7672 - val_loss: 0.4965 - val_accuracy: 0.7812 - lr: 9.0000e-05\n",
            "Epoch 5/30\n",
            "51/51 [==============================] - 3s 56ms/step - loss: 0.5152 - accuracy: 0.8235 - val_loss: 0.5068 - val_accuracy: 0.8542 - lr: 9.0000e-05\n",
            "Epoch 6/30\n",
            "51/51 [==============================] - 3s 55ms/step - loss: 0.4945 - accuracy: 0.8284 - val_loss: 0.4708 - val_accuracy: 0.8750 - lr: 8.1000e-05\n",
            "Epoch 7/30\n",
            "51/51 [==============================] - 3s 55ms/step - loss: 0.4897 - accuracy: 0.8235 - val_loss: 0.4692 - val_accuracy: 0.8229 - lr: 8.1000e-05\n",
            "Epoch 8/30\n",
            "51/51 [==============================] - 3s 55ms/step - loss: 0.4912 - accuracy: 0.8554 - val_loss: 0.4597 - val_accuracy: 0.8854 - lr: 8.1000e-05\n",
            "Epoch 9/30\n",
            "51/51 [==============================] - 3s 55ms/step - loss: 0.4883 - accuracy: 0.8407 - val_loss: 0.4766 - val_accuracy: 0.9271 - lr: 8.1000e-05\n",
            "Epoch 10/30\n",
            "51/51 [==============================] - 3s 55ms/step - loss: 0.4886 - accuracy: 0.8529 - val_loss: 0.4564 - val_accuracy: 0.8542 - lr: 8.1000e-05\n",
            "Epoch 11/30\n",
            "51/51 [==============================] - 3s 55ms/step - loss: 0.4675 - accuracy: 0.8627 - val_loss: 0.5049 - val_accuracy: 0.9375 - lr: 7.2900e-05\n",
            "Epoch 12/30\n",
            "51/51 [==============================] - 3s 56ms/step - loss: 0.4714 - accuracy: 0.8603 - val_loss: 0.5400 - val_accuracy: 0.8542 - lr: 7.2900e-05\n",
            "Epoch 13/30\n",
            "51/51 [==============================] - 3s 55ms/step - loss: 0.4683 - accuracy: 0.8456 - val_loss: 0.5146 - val_accuracy: 0.9271 - lr: 7.2900e-05\n"
          ]
        }
      ],
      "source": [
        "history=model.fit_generator(train_dataloader,steps_per_epoch=len(train_dataloader)//8,validation_data=test_dataloader,validation_steps=len(test_dataloader)//8,epochs=30,callbacks=[lrScheduler,es,rl])"
      ]
    },
    {
      "cell_type": "code",
      "execution_count": 28,
      "metadata": {
        "colab": {
          "base_uri": "https://localhost:8080/",
          "height": 621
        },
        "id": "euMdiQX_OdK7",
        "outputId": "77275ba1-97b6-4fa9-fba7-491e2e5633b6"
      },
      "outputs": [
        {
          "data": {
            "image/png": "[encoded data removed]",
            "text/plain": [
              "<Figure size 1000x1000 with 1 Axes>"
            ]
          },
          "metadata": {},
          "output_type": "display_data"
        }
      ],
      "source": [
        "plt.figure(figsize=(10,10))\n",
        "plt.plot(history.history['val_loss'],label='Validation loss')\n",
        "plt.plot(history.history['loss'],label='Loss')\n",
        "plt.title(\"Epoch v/s Loss Graph\")\n",
        "plt.xlabel(\"Epoch\")\n",
        "plt.ylabel(\"Loss\")\n",
        "plt.legend()\n",
        "plt.show()"
      ]
    },
    {
      "cell_type": "code",
      "execution_count": 29,
      "metadata": {
        "id": "H9OA9WoVfVLP"
      },
      "outputs": [],
      "source": [
        "ph1model_json = model.to_json()\n",
        "with open(\"v1model.json\", \"w\") as json_file:\n",
        "    json_file.write(ph1model_json)"
      ]
    },
    {
      "cell_type": "code",
      "execution_count": 30,
      "metadata": {
        "id": "iRzv35hmfjBt"
      },
      "outputs": [],
      "source": [
        "model.save_weights(\"v1model.h5\")"
      ]
    },
    {
      "attachments": {},
      "cell_type": "markdown",
      "metadata": {
        "id": "pFSD4P8AbCwU"
      },
      "source": [
        "##### PREDICTION"
      ]
    },
    {
      "cell_type": "code",
      "execution_count": 31,
      "metadata": {
        "id": "N1QZOB5ma8JI"
      },
      "outputs": [],
      "source": [
        "def predict(img_path,model) :\n",
        "    pi=prepare_image(img_path)\n",
        "    pi=pi.reshape(1,128,128,3)\n",
        "    predict=model.predict(pi)\n",
        "    return predict"
      ]
    },
    {
      "cell_type": "code",
      "execution_count": 32,
      "metadata": {
        "colab": {
          "base_uri": "https://localhost:8080/"
        },
        "id": "XXh-ESRSbVQ3",
        "outputId": "0361e77e-571b-4ca9-d17b-6b387b9d7144"
      },
      "outputs": [
        {
          "name": "stdout",
          "output_type": "stream",
          "text": [
            "====================================================================================================\n",
            "Real label--- real\n",
            "1/1 [==============================] - 0s 89ms/step\n",
            "Predicted label--- real\n",
            "====================================================================================================\n",
            "Real label--- fake\n",
            "1/1 [==============================] - 0s 10ms/step\n",
            "Predicted label--- fake\n",
            "====================================================================================================\n",
            "Real label--- fake\n",
            "1/1 [==============================] - 0s 10ms/step\n",
            "Predicted label--- fake\n",
            "====================================================================================================\n",
            "Real label--- fake\n",
            "1/1 [==============================] - 0s 10ms/step\n",
            "Predicted label--- fake\n",
            "====================================================================================================\n",
            "Real label--- real\n",
            "1/1 [==============================] - 0s 10ms/step\n",
            "Predicted label--- fake\n"
          ]
        }
      ],
      "source": [
        "#Prediction on 5 random images \n",
        "for i in range(1,6) :\n",
        "  ran_num=np.random.randint(0,final_image_data.shape[0])\n",
        "  temp_row=final_image_data.iloc[ran_num,:]\n",
        "  print(\"=\"*100)\n",
        "  temp_arr=plt.imread(temp_row['image_path'])\n",
        "  print(\"Real label--- {}\".format(temp_row['label']))\n",
        "  temp_predict=predict(temp_row['image_path'],model)\n",
        "  if temp_predict[0]>0.5 :\n",
        "    temp_prediction='real'\n",
        "  else:\n",
        "    temp_prediction='fake'\n",
        "  print(\"Predicted label--- {}\".format(temp_prediction))\n"
      ]
    },
    {
      "cell_type": "code",
      "execution_count": null,
      "metadata": {
        "id": "eYAH9NTuLxlq"
      },
      "outputs": [],
      "source": []
    }
  ],
  "metadata": {
    "accelerator": "GPU",
    "colab": {
      "name": "ifd PHASE-1.ipynb",
      "provenance": []
    },
    "gpuClass": "standard",
    "kernelspec": {
      "display_name": "Python 3",
      "name": "python3"
    },
    "language_info": {
      "codemirror_mode": {
        "name": "ipython",
        "version": 3
      },
      "file_extension": ".py",
      "mimetype": "text/x-python",
      "name": "python",
      "nbconvert_exporter": "python",
      "pygments_lexer": "ipython3",
      "version": "3.8.16"
    }
  },
  "nbformat": 4,
  "nbformat_minor": 0
}
